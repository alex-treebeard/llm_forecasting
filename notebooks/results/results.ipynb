{
 "cells": [
  {
   "cell_type": "code",
   "execution_count": 1,
   "id": "aab054a6",
   "metadata": {},
   "outputs": [],
   "source": [
    "import pickle\n",
    "import numpy as np"
   ]
  },
  {
   "cell_type": "code",
   "execution_count": 2,
   "id": "340d2fa4",
   "metadata": {},
   "outputs": [],
   "source": [
    "def calculate_normalized_weighted_trimmed_mean(predictions):\n",
    "    # Step 1: Find the median\n",
    "    median_prediction = np.median(predictions)\n",
    "\n",
    "    # Step 2: Determine the prediction farthest from the median\n",
    "    distances = np.abs(predictions - median_prediction)\n",
    "    max_distance = np.max(distances)\n",
    "\n",
    "    # Step 3: Down-weight the furthest prediction by half\n",
    "    weights = np.ones(len(predictions))\n",
    "    weights[distances == max_distance] *= 0.5\n",
    "\n",
    "    # Step 4: Distribute the saved weight among other predictions\n",
    "    saved_weight = (1.0 - 0.5) / (len(predictions) - 1)\n",
    "    weights[distances != max_distance] += saved_weight\n",
    "\n",
    "    # Step 5: Calculate the weighted mean\n",
    "    weighted_mean = np.average(predictions, weights=weights)\n",
    "\n",
    "    return weighted_mean"
   ]
  },
  {
   "cell_type": "code",
   "execution_count": 3,
   "id": "dc954c5e",
   "metadata": {},
   "outputs": [],
   "source": [
    "with open(\"data/answers.pickle\", \"rb\") as file:\n",
    "    answers = pickle.load(file)\n",
    "with open(\"data/base_predictions.pickle\", \"rb\") as file:\n",
    "    base_predictions = pickle.load(file)\n",
    "with open(\"data/finetuned_predictions.pickle\", \"rb\") as file:\n",
    "    finetuned_predictions = pickle.load(file)\n",
    "with open(\"data/finetuned_other_predictions.pickle\", \"rb\") as file:\n",
    "    finetuned_other_predictions = pickle.load(file)\n",
    "with open(\"data/crowd_predictions.pickle\", \"rb\") as file:\n",
    "    community_predictions = pickle.load(file)"
   ]
  },
  {
   "cell_type": "code",
   "execution_count": 4,
   "id": "be79c2e2",
   "metadata": {},
   "outputs": [
    {
     "name": "stdout",
     "output_type": "stream",
     "text": [
      "Base Brier Score: 0.1863574497732625\n",
      "Finetuned Brier Score: 0.18005945446102836\n",
      "Finetuned and Base Brier Score: 0.17988713531620448\n",
      "Crowd Brier Score: 0.1486199294280867\n"
     ]
    }
   ],
   "source": [
    "base_brier_score = 0\n",
    "finetuned_brier_score = 0\n",
    "finetuned_and_base_brier_score = 0\n",
    "crowd_brier_score = 0\n",
    "n = 0\n",
    "for i in range(5): # num retrieval dates\n",
    "    for j in range(len(finetuned_predictions[i])):\n",
    "        answer = answers[i][j]\n",
    "        \n",
    "        base_preds = base_predictions[i][j]\n",
    "        finetuned_preds = finetuned_predictions[i][j]\n",
    "        finetuned_other_preds = finetuned_other_predictions[i][j]\n",
    "        crowd_pred = community_predictions[i][j]\n",
    "        \n",
    "        base_pred = calculate_normalized_weighted_trimmed_mean(base_preds)\n",
    "        finetuned_pred = np.mean(finetuned_preds + finetuned_other_preds)\n",
    "        finetuned_and_base_pred = calculate_normalized_weighted_trimmed_mean(base_preds + finetuned_preds + finetuned_other_preds)\n",
    "        \n",
    "        base_brier_score += (base_pred - answer) ** 2\n",
    "        finetuned_brier_score += (finetuned_pred - answer) ** 2\n",
    "        finetuned_and_base_brier_score += (finetuned_and_base_pred - answer) ** 2\n",
    "        crowd_brier_score += (crowd_pred - answer) ** 2\n",
    "        n += 1\n",
    "\n",
    "print(\"Base Brier Score:\", base_brier_score/n)\n",
    "print(\"Finetuned Brier Score:\", finetuned_brier_score/n)\n",
    "print(\"Finetuned and Base Brier Score:\", finetuned_and_base_brier_score/n)\n",
    "print(\"Crowd Brier Score:\", crowd_brier_score/n)"
   ]
  }
 ],
 "metadata": {
  "kernelspec": {
   "display_name": "Python 3 (ipykernel)",
   "language": "python",
   "name": "python3"
  },
  "language_info": {
   "codemirror_mode": {
    "name": "ipython",
    "version": 3
   },
   "file_extension": ".py",
   "mimetype": "text/x-python",
   "name": "python",
   "nbconvert_exporter": "python",
   "pygments_lexer": "ipython3",
   "version": "3.11.0"
  }
 },
 "nbformat": 4,
 "nbformat_minor": 5
}
