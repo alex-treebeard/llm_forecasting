{
 "cells": [
  {
   "cell_type": "code",
   "execution_count": 1,
   "id": "4ea8a405",
   "metadata": {},
   "outputs": [],
   "source": [
    "%load_ext autoreload\n",
    "%autoreload 2"
   ]
  },
  {
   "cell_type": "markdown",
   "id": "c86f0fcf",
   "metadata": {},
   "source": [
    "## Prereqs"
   ]
  },
  {
   "cell_type": "markdown",
   "id": "907067fc",
   "metadata": {},
   "source": [
    "Set your OpenAI key (recommended) or TogetherAI key in llm_forecasting/cofig/keys.py, both of which provide free credits on sign up for users. "
   ]
  },
  {
   "cell_type": "markdown",
   "id": "a5d476ae-bc06-4429-b884-2bf70a8dd47b",
   "metadata": {},
   "source": [
    "## Import packages and load data"
   ]
  },
  {
   "cell_type": "code",
   "execution_count": 2,
   "id": "f7f2632c-ca7f-4ec2-b32b-cce11ec2aa61",
   "metadata": {},
   "outputs": [],
   "source": [
    "# Standard library imports\n",
    "import pickle\n",
    "\n",
    "# Third-party library imports\n",
    "import pandas as pd\n",
    "\n",
    "# Local application/library specific imports\n",
    "from config.constants import PROMPT_DICT\n",
    "from utils.data_utils import get_formatted_data\n",
    "from utils.visualize_utils import visualize_all, visualize_all_ensemble\n",
    "import ranking\n",
    "import summarize\n",
    "import ensemble"
   ]
  },
  {
   "cell_type": "code",
   "execution_count": 3,
   "id": "aef39704",
   "metadata": {},
   "outputs": [],
   "source": [
    "with open(\"sample_questions.pickle\", \"rb\") as file:\n",
    "    sample_qs = pickle.load(file)"
   ]
  },
  {
   "cell_type": "code",
   "execution_count": 4,
   "id": "9497f5dd",
   "metadata": {},
   "outputs": [],
   "source": [
    "with open(\"sample_questions.pickle\", \"wb\") as file:\n",
    "    pickle.dump(sample_qs, file)"
   ]
  },
  {
   "cell_type": "code",
   "execution_count": 5,
   "id": "d08d71eb",
   "metadata": {},
   "outputs": [],
   "source": [
    "formatted_data, raw_data = get_formatted_data(\n",
    "    \"\",\n",
    "    retrieval_index=1,\n",
    "    num_retrievals=5,\n",
    "    questions_after=\"2022\",\n",
    "    return_raw_question_data=True,\n",
    "    data=sample_qs,\n",
    ")"
   ]
  },
  {
   "cell_type": "code",
   "execution_count": 6,
   "id": "fcc36391",
   "metadata": {},
   "outputs": [],
   "source": [
    "# For this demo, we'll evaluate the first question.\n",
    "\n",
    "question = formatted_data[\"question_list\"][9]\n",
    "background_info = formatted_data[\"background_list\"][9]\n",
    "resolution_criteria = formatted_data[\"resolution_criteria_list\"][9]\n",
    "answer = formatted_data[\"answer_list\"][9]\n",
    "question_dates = formatted_data[\"question_dates_list\"][9]\n",
    "retrieval_dates = formatted_data[\"retrieval_dates_list\"][9]\n",
    "urls_in_background = formatted_data[\"urls_in_background_list\"][9]"
   ]
  },
  {
   "cell_type": "code",
   "execution_count": 7,
   "id": "dbdbb609",
   "metadata": {},
   "outputs": [
    {
     "name": "stdout",
     "output_type": "stream",
     "text": [
      "Question: Will Reddit announce changes or a delay to its proposed API fee pricing before July 1, 2023?\n",
      "Background: In April 2023, Reddit announced new terms for its Application Programming Interface (API), the tool through which developers of third-party apps access Reddit's data. This change included the introduction of pricing for API usage, a significant departure from the previous practice of providing the API for free. This led to an outcry from both developers and users of third-party Reddit apps, as these changes could result in substantial costs for developers and the potential shutdown of many popular third-party apps.\n",
      "The developer of the popular third-party app, Apollo for Reddit, Christian Selig, stated he would be liable for an annual cost of $20 million under the new terms. This revelation sparked widespread discontent among Reddit users, leading to a coordinated protest involving more than 8,000 Reddit communities, including some of the largest and most active, going dark. Some communities have pledged to remain private indefinitely until Reddit makes changes.\n",
      "Reddit's CEO, Steve Huffman, has remained resolute regarding the API changes, emphasizing in an Ask Me Anything (AMA) session and internal memos that the company must proceed with the changes. This stance is perceived as part of Reddit's broader effort to increase profitability, especially given the company's recent layoffs and plans to break even next year. However, the approach has escalated user dissatisfaction, with some speculating that the changes are an attempt to limit the viability of third-party apps and encourage users to migrate to the official Reddit app.\n",
      "Background co-written with ChatGPT.\n"
     ]
    }
   ],
   "source": [
    "print(\"Question:\", question)\n",
    "print(\"Background:\", background_info)"
   ]
  },
  {
   "cell_type": "markdown",
   "id": "a8346aae",
   "metadata": {},
   "source": [
    "## Retrieval"
   ]
  },
  {
   "cell_type": "code",
   "execution_count": 8,
   "id": "27aeadfe",
   "metadata": {},
   "outputs": [],
   "source": [
    "RETRIEVAL_CONFIG = {\n",
    "    \"NUM_SEARCH_QUERY_KEYWORDS\": 3,\n",
    "    \"MAX_WORDS_NEWSCATCHER\": 5,\n",
    "    \"MAX_WORDS_GNEWS\": 8,\n",
    "    \"SEARCH_QUERY_MODEL_NAME\": \"gpt-4-1106-preview\",\n",
    "    \"SEARCH_QUERY_TEMPERATURE\": 0.0,\n",
    "    \"SEARCH_QUERY_PROMPT_TEMPLATES\": [\n",
    "        PROMPT_DICT[\"search_query\"][\"0\"],\n",
    "        PROMPT_DICT[\"search_query\"][\"1\"],\n",
    "    ],\n",
    "    \"NUM_ARTICLES_PER_QUERY\": 5,\n",
    "    \"SUMMARIZATION_MODEL_NAME\": \"gpt-3.5-turbo-1106\",\n",
    "    \"SUMMARIZATION_TEMPERATURE\": 0.2,\n",
    "    \"SUMMARIZATION_PROMPT_TEMPLATE\": PROMPT_DICT[\"summarization\"][\"9\"],\n",
    "    \"NUM_SUMMARIES_THRESHOLD\": 10,\n",
    "    \"PRE_FILTER_WITH_EMBEDDING\": True,\n",
    "    \"PRE_FILTER_WITH_EMBEDDING_THRESHOLD\": 0.32,\n",
    "    \"RANKING_MODEL_NAME\": \"gpt-3.5-turbo-1106\",\n",
    "    \"RANKING_TEMPERATURE\": 0.0,\n",
    "    \"RANKING_PROMPT_TEMPLATE\": PROMPT_DICT[\"ranking\"][\"0\"],\n",
    "    \"RANKING_RELEVANCE_THRESHOLD\": 4,\n",
    "    \"RANKING_COSINE_SIMILARITY_THRESHOLD\": 0.5,\n",
    "    \"SORT_BY\": \"date\",\n",
    "    \"RANKING_METHOD\": \"llm-rating\",\n",
    "    \"RANKING_METHOD_LLM\": \"title_250_tokens\",\n",
    "    \"NUM_SUMMARIES_THRESHOLD\": 20,\n",
    "    \"EXTRACT_BACKGROUND_URLS\": True,\n",
    "}"
   ]
  },
  {
   "cell_type": "code",
   "execution_count": 9,
   "id": "b9530608",
   "metadata": {
    "scrolled": true
   },
   "outputs": [
    {
     "name": "stderr",
     "output_type": "stream",
     "text": [
      "INFO:ranking:Finding 3 search query keywords via LLM...\n",
      "INFO:httpx:HTTP Request: POST https://api.openai.com/v1/chat/completions \"HTTP/1.1 200 OK\"\n",
      "INFO:httpx:HTTP Request: POST https://api.openai.com/v1/chat/completions \"HTTP/1.1 200 OK\"\n",
      "INFO:httpx:HTTP Request: POST https://api.openai.com/v1/chat/completions \"HTTP/1.1 200 OK\"\n",
      "INFO:httpx:HTTP Request: POST https://api.openai.com/v1/chat/completions \"HTTP/1.1 200 OK\"\n",
      "INFO:ranking:Search queries for NC: ['Reddit API pricing update', 'Reddit CEO Steve Huffman statement', 'Reddit community API response', 'Reddit financial news 2023', 'Will Reddit announce changes or a delay to its proposed API fee pricing before July 1, 2023?', 'Reddit API fee backlash', 'Reddit CEO statement API']\n",
      "INFO:ranking:Search queries for GNews: ['Reddit API pricing update June 2023', 'Reddit community response to API fees', 'Steve Huffman Reddit API pricing statement', 'Reddit negotiations third-party developers', 'Reddit API fee pricing update 2023', 'Will Reddit announce changes or a delay to its proposed API fee pricing before July 1, 2023?', 'Reddit CEO statement on API fees']\n",
      "ERROR:information_retrieval:Skipping Newscatcher since no key is set.\n",
      "INFO:information_retrieval:Retrieved 5 articles for Reddit API pricing update June 2023 via GNews.\n",
      "INFO:information_retrieval:Retrieved 5 articles for Reddit community response to API fees via GNews.\n",
      "INFO:information_retrieval:Retrieved 5 articles for Steve Huffman Reddit API pricing statement via GNews.\n",
      "INFO:information_retrieval:Retrieved 5 articles for Reddit negotiations third-party developers via GNews.\n",
      "INFO:information_retrieval:Retrieved 5 articles for Reddit API fee pricing update 2023 via GNews.\n",
      "INFO:information_retrieval:Retrieved 1 articles for Will Reddit announce changes or a delay to its proposed API fee pricing before July 1, 2023? via GNews.\n",
      "INFO:information_retrieval:Retrieved 5 articles for Reddit CEO statement on API fees via GNews.\n",
      "INFO:information_retrieval:Retrieved full article text for https://news.google.com/rss/articles/CBMiXmh0dHBzOi8vd3d3LnRoZXZlcmdlLmNvbS8yMDIzLzYvMTYvMjM3NjM1MzgvcmVkZGl0LWJsYWNrb3V0LWFwaS1wcm90ZXN0LW1vZC1yZXBsYWNlbWVudC10aHJlYXTSAQA?oc=5&hl=en-US&gl=US&ceid=US:en\n",
      "INFO:information_retrieval:Retrieved full article text for https://news.google.com/rss/articles/CBMiQWh0dHBzOi8vbWFzaGFibGUuY29tL2FydGljbGUvcmVkZGl0LWNlby1zdGV2ZS1odWZmbWFuLWFwaS1jaGFuZ2Vz0gEA?oc=5&hl=en-US&gl=US&ceid=US:en\n",
      "INFO:information_retrieval:Retrieved full article text for https://news.google.com/rss/articles/CBMiW2h0dHBzOi8vYXJzdGVjaG5pY2EuY29tL2dhZGdldHMvMjAyMy8wNi90aGUtcmVkZGl0LXByb3Rlc3RzLWFyZS13aW5kaW5nLWRvd24tc28td2hhdHMtbmV4dC_SAQA?oc=5&hl=en-US&gl=US&ceid=US:en\n",
      "INFO:information_retrieval:Retrieved full article text for https://news.google.com/rss/articles/CBMiZGh0dHBzOi8vdGVjaGNydW5jaC5jb20vMjAyMy8wNi8xNi9yZWRkaXQtY2VvLWxhc2hlcy1vdXQtb24tcHJvdGVzdHMtbW9kZXJhdG9ycy1hbmQtdGhpcmQtcGFydHktYXBwcy_SAWhodHRwczovL3RlY2hjcnVuY2guY29tLzIwMjMvMDYvMTYvcmVkZGl0LWNlby1sYXNoZXMtb3V0LW9uLXByb3Rlc3RzLW1vZGVyYXRvcnMtYW5kLXRoaXJkLXBhcnR5LWFwcHMvYW1wLw?oc=5&hl=en-US&gl=US&ceid=US:en\n",
      "INFO:information_retrieval:Retrieved full article text for https://news.google.com/rss/articles/CBMiYmh0dHBzOi8vd3d3Lndhc2hpbmd0b25wb3N0LmNvbS90ZWNobm9sb2d5LzIwMjMvMDYvMTYvcmVkZGl0LWNlby1ibGFja291dC1tb2RlcmF0b3JzLXN0ZXZlLWh1ZmZtYW4v0gEA?oc=5&hl=en-US&gl=US&ceid=US:en\n",
      "INFO:information_retrieval:Retrieved full article text for https://news.google.com/rss/articles/CBMiYWh0dHBzOi8vYXBuZXdzLmNvbS9hcnRpY2xlL3JlZGRpdC1ibGFja291dC1zdGV2ZS1odWZmbWFuLWNlby1hcGktMGE0ZjdiMzQ0ZWNmYmY1MGM5MjRiMDMwYzM0NGM1NWXSAQA?oc=5&hl=en-US&gl=US&ceid=US:en\n",
      "INFO:information_retrieval:Retrieved full article text for https://news.google.com/rss/articles/CBMiiAFodHRwczovL3d3dy5wYnMub3JnL25ld3Nob3VyL2Vjb25vbXkvZGVzcGl0ZS13aWRlc3ByZWFkLXVzZXItcHJvdGVzdC1yZWRkaXQtY2VvLXNheXMtY29tcGFueS1pcy1ub3QtbmVnb3RpYXRpbmctb24tM3JkLXBhcnR5LWFwcC1jaGFyZ2Vz0gGMAWh0dHBzOi8vd3d3LnBicy5vcmcvbmV3c2hvdXIvYW1wL2Vjb25vbXkvZGVzcGl0ZS13aWRlc3ByZWFkLXVzZXItcHJvdGVzdC1yZWRkaXQtY2VvLXNheXMtY29tcGFueS1pcy1ub3QtbmVnb3RpYXRpbmctb24tM3JkLXBhcnR5LWFwcC1jaGFyZ2Vz?oc=5&hl=en-US&gl=US&ceid=US:en\n",
      "INFO:information_retrieval:Retrieved full article text for https://news.google.com/rss/articles/CBMiQGh0dHBzOi8vOXRvNW1hYy5jb20vMjAyMy8wNi8xNS9yZWRkaXQtYmxhY2tvdXQtdGhpcmQtcGFydHktYXBwcy_SAQA?oc=5&hl=en-US&gl=US&ceid=US:en\n",
      "INFO:information_retrieval:Retrieved full article text for https://news.google.com/rss/articles/CBMiWmh0dHBzOi8vd3d3LmluZGVwZW5kZW50LmNvLnVrL3RlY2gvcmVkZGl0LWNlby1wcm90ZXN0cy1wcml2YXRlLWRhcmstYXBpLWRhdGEtYjIzNTkwNjEuaHRtbNIBAA?oc=5&hl=en-US&gl=US&ceid=US:en\n",
      "INFO:information_retrieval:Retrieved full article text for https://news.google.com/rss/articles/CBMiTmh0dHBzOi8vd3d3LnRoZXZlcmdlLmNvbS8yMDIzLzYvMTUvMjM3NjI4NjgvcmVkZGl0LWNlby1zdGV2ZS1odWZmbWFuLWludGVydmlld9IBAA?oc=5&hl=en-US&gl=US&ceid=US:en\n",
      "INFO:information_retrieval:Retrieved full article text for https://news.google.com/rss/articles/CBMihAFodHRwczovL3d3dy5mb3JiZXMuY29tL3NpdGVzL2FudG9uaW9wZXF1ZW5vaXYvMjAyMy8wNi8xNS9yZWRkaXQtY2VvLXB1c2hlcy1iYWNrLWFnYWluc3QtYmxhY2tvdXQtd2lsbC1sZXQtdXNlcnMtdm90ZS1vdXQtbW9kZXJhdG9ycy_SAQA?oc=5&hl=en-US&gl=US&ceid=US:en\n",
      "INFO:information_retrieval:Retrieved full article text for https://news.google.com/rss/articles/CBMidGh0dHBzOi8vaGVhbHRoLnd1c2YudXNmLmVkdS8yMDIzLTA2LTE1L3JlZGRpdC1jZW8tc3RldmUtaHVmZm1hbi1pdHMtdGltZS13ZS1ncm93LXVwLWFuZC1iZWhhdmUtbGlrZS1hbi1hZHVsdC1jb21wYW550gEA?oc=5&hl=en-US&gl=US&ceid=US:en\n",
      "INFO:information_retrieval:Retrieved full article text for https://news.google.com/rss/articles/CBMiiAFodHRwczovL3d3dy5jdHZuZXdzLmNhL2J1c2luZXNzL2Rlc3BpdGUtd2lkZXNwcmVhZC1wcm90ZXN0LXJlZGRpdC1jZW8tc2F5cy1jb21wYW55LWlzLW5vdC1uZWdvdGlhdGluZy1vbi0zcmQtcGFydHktYXBwLWNoYXJnZXMtMS42NDQ0OTE50gEA?oc=5&hl=en-US&gl=US&ceid=US:en\n"
     ]
    },
    {
     "name": "stdout",
     "output_type": "stream",
     "text": [
      "An error occurred while fetching the article: Article `download()` failed with HTTPSConnectionPool(host='www.ctvnews.ca', port=443): Read timed out. (read timeout=7) on URL https://news.google.com/rss/articles/CBMiiAFodHRwczovL3d3dy5jdHZuZXdzLmNhL2J1c2luZXNzL2Rlc3BpdGUtd2lkZXNwcmVhZC1wcm90ZXN0LXJlZGRpdC1jZW8tc2F5cy1jb21wYW55LWlzLW5vdC1uZWdvdGlhdGluZy1vbi0zcmQtcGFydHktYXBwLWNoYXJnZXMtMS42NDQ0OTE50gEA?oc=5&hl=en-US&gl=US&ceid=US:en\n"
     ]
    },
    {
     "name": "stderr",
     "output_type": "stream",
     "text": [
      "INFO:information_retrieval:Retrieved full article text for https://news.google.com/rss/articles/CBMiswFodHRwczovL3d3dy5mb3JiZXMuY29tL3NpdGVzL2FudG9uaW9wZXF1ZW5vaXYvMjAyMy8wNi8xNS9yZWRkaXQtYmxhY2tvdXQtcm9sbHMtb24tZm9yLW1vcmUtdGhhbi01MDAwLXN1YnJlZGRpdHMtcGFzdC1wbGFubmVkLWVuZC1kYXRlLXNvbWUtb2Ytd2hpY2gtcGxhbi10by1zdGF5LWRhcmstaW5kZWZpbml0ZWx5L9IBtwFodHRwczovL3d3dy5mb3JiZXMuY29tL3NpdGVzL2FudG9uaW9wZXF1ZW5vaXYvMjAyMy8wNi8xNS9yZWRkaXQtYmxhY2tvdXQtcm9sbHMtb24tZm9yLW1vcmUtdGhhbi01MDAwLXN1YnJlZGRpdHMtcGFzdC1wbGFubmVkLWVuZC1kYXRlLXNvbWUtb2Ytd2hpY2gtcGxhbi10by1zdGF5LWRhcmstaW5kZWZpbml0ZWx5L2FtcC8?oc=5&hl=en-US&gl=US&ceid=US:en\n",
      "INFO:information_retrieval:Retrieved full article text for https://news.google.com/rss/articles/CBMiaGh0dHBzOi8vd3d3LmNuYmMuY29tLzIwMjMvMDYvMTYvcmVkZGl0LWluLWNyaXNpcy1hcy1wcm9taW5lbnQtbW9kZXJhdG9ycy1wcm90ZXN0LWFwaS1wcmljZS1pbmNyZWFzZS5odG1s0gFsaHR0cHM6Ly93d3cuY25iYy5jb20vYW1wLzIwMjMvMDYvMTYvcmVkZGl0LWluLWNyaXNpcy1hcy1wcm9taW5lbnQtbW9kZXJhdG9ycy1wcm90ZXN0LWFwaS1wcmljZS1pbmNyZWFzZS5odG1s?oc=5&hl=en-US&gl=US&ceid=US:en\n",
      "INFO:information_retrieval:Retrieved full article text for https://news.google.com/rss/articles/CBMiYGh0dHBzOi8vd3d3LnRoZXZlcmdlLmNvbS8yMDIzLzYvMTUvMjM3NjI1MDEvcmVkZGl0LWNlby1zdGV2ZS1odWZmbWFuLWludGVydmlldy1wcm90ZXN0cy1ibGFja291dNIBAA?oc=5&hl=en-US&gl=US&ceid=US:en\n",
      "INFO:information_retrieval:Retrieved full article text for https://news.google.com/rss/articles/CBMiYmh0dHBzOi8vd3d3LmJ1c2luZXNzaW5zaWRlci5jb20vcmVkZGl0LWNlby1hcHAtZm91bmRlcnMtYXBvbGxvLXJpZmYtbWFkZS1taWxsaW9ucy11c2luZy1hcGktMjAyMy020gFmaHR0cHM6Ly93d3cuYnVzaW5lc3NpbnNpZGVyLmNvbS9yZWRkaXQtY2VvLWFwcC1mb3VuZGVycy1hcG9sbG8tcmlmZi1tYWRlLW1pbGxpb25zLXVzaW5nLWFwaS0yMDIzLTY_YW1w?oc=5&hl=en-US&gl=US&ceid=US:en\n",
      "INFO:information_retrieval:Retrieved full article text for https://news.google.com/rss/articles/CBMilQFodHRwczovL2tmb3IuY29tL25ld3MvdGVjaG5vbG9neS1uZXdzL2FwLXRlY2hub2xvZ3kvdGhlLXJlZGRpdC1ibGFja291dC1leHBsYWluZWQtd2h5LXRob3VzYW5kcy1vZi1zdWJyZWRkaXRzLWFyZS1wcm90ZXN0aW5nLXRoaXJkLXBhcnR5LWFwcC1jaGFyZ2VzL9IBmQFodHRwczovL2tmb3IuY29tL25ld3MvdGVjaG5vbG9neS1uZXdzL2FwLXRlY2hub2xvZ3kvdGhlLXJlZGRpdC1ibGFja291dC1leHBsYWluZWQtd2h5LXRob3VzYW5kcy1vZi1zdWJyZWRkaXRzLWFyZS1wcm90ZXN0aW5nLXRoaXJkLXBhcnR5LWFwcC1jaGFyZ2VzL2FtcC8?oc=5&hl=en-US&gl=US&ceid=US:en\n",
      "INFO:httpx:HTTP Request: POST https://api.openai.com/v1/chat/completions \"HTTP/1.1 200 OK\"\n",
      "INFO:httpx:HTTP Request: POST https://api.openai.com/v1/chat/completions \"HTTP/1.1 200 OK\"\n",
      "INFO:httpx:HTTP Request: POST https://api.openai.com/v1/chat/completions \"HTTP/1.1 200 OK\"\n",
      "INFO:httpx:HTTP Request: POST https://api.openai.com/v1/chat/completions \"HTTP/1.1 200 OK\"\n",
      "INFO:httpx:HTTP Request: POST https://api.openai.com/v1/chat/completions \"HTTP/1.1 200 OK\"\n",
      "INFO:httpx:HTTP Request: POST https://api.openai.com/v1/chat/completions \"HTTP/1.1 200 OK\"\n",
      "INFO:httpx:HTTP Request: POST https://api.openai.com/v1/chat/completions \"HTTP/1.1 200 OK\"\n",
      "INFO:httpx:HTTP Request: POST https://api.openai.com/v1/chat/completions \"HTTP/1.1 200 OK\"\n",
      "INFO:httpx:HTTP Request: POST https://api.openai.com/v1/chat/completions \"HTTP/1.1 200 OK\"\n",
      "INFO:httpx:HTTP Request: POST https://api.openai.com/v1/chat/completions \"HTTP/1.1 200 OK\"\n",
      "INFO:httpx:HTTP Request: POST https://api.openai.com/v1/chat/completions \"HTTP/1.1 200 OK\"\n",
      "INFO:httpx:HTTP Request: POST https://api.openai.com/v1/chat/completions \"HTTP/1.1 200 OK\"\n",
      "INFO:httpx:HTTP Request: POST https://api.openai.com/v1/chat/completions \"HTTP/1.1 200 OK\"\n",
      "INFO:httpx:HTTP Request: POST https://api.openai.com/v1/chat/completions \"HTTP/1.1 200 OK\"\n",
      "INFO:httpx:HTTP Request: POST https://api.openai.com/v1/chat/completions \"HTTP/1.1 200 OK\"\n",
      "INFO:httpx:HTTP Request: POST https://api.openai.com/v1/chat/completions \"HTTP/1.1 200 OK\"\n",
      "INFO:httpx:HTTP Request: POST https://api.openai.com/v1/chat/completions \"HTTP/1.1 200 OK\"\n",
      "INFO:ranking:Article Here’s the note Reddit sent to moderators threatening them if they don’t reopen gets rating: 2.0\n",
      "INFO:ranking:Article Reddit CEO doubles down on API changes gets rating: 3.0\n",
      "INFO:ranking:Article As the Reddit war rages on, community trust is the casualty gets rating: 5.0\n",
      "INFO:ranking:Article Reddit CEO lashes out on protests, moderators and third-party apps gets rating: 4.0\n",
      "INFO:ranking:Article Reddit CEO compares moderators to aristocracy as blackout stretches on gets rating: 5.0\n",
      "INFO:ranking:Article Despite widespread protest, Reddit CEO says company is ‘not negotiating’ on 3rd-party app charges gets rating: 5.0\n",
      "INFO:ranking:Article Despite widespread user protest, Reddit CEO says company is ‘not negotiating’ on 3rd-party app charges gets rating: 5.0\n",
      "INFO:ranking:Article Reddit’s CEO really wants you to know that he doesn’t care about your feedback gets rating: 5.0\n",
      "INFO:ranking:Article Reddit CEO says people will get over outrage and threatens to replace mods behind protests gets rating: 3.0\n",
      "INFO:ranking:Article Reddit CEO Steve Huffman isn’t backing down: our full interview gets rating: 5.0\n",
      "INFO:ranking:Article Reddit CEO Pushes Back Against Blackout—Will Consider Letting Users Vote Out Moderators gets rating: 2.0\n",
      "INFO:ranking:Article Reddit CEO Steve Huffman: 'It's time we grow up and behave like an adult company' gets rating: 3.0\n",
      "INFO:ranking:Article Reddit Blackout Rolls On For More Than 5,000 Subreddits Past Planned End Date—Some Of Which Plan To Stay Dark Indefinitely gets rating: 4.0\n",
      "INFO:ranking:Article Reddit is in crisis as prominent moderators loudly protest the company's treatment of developers gets rating: 3.0\n",
      "INFO:ranking:Article Reddit CEO Steve Huffman: Reddit ‘was never designed to support third-party apps’ gets rating: 5.0\n",
      "INFO:ranking:Article Reddit CEO says app founders who are shutting down in protest over API charges made millions: 'These aren't like side projects or charities' gets rating: 5.0\n",
      "INFO:ranking:Article The Reddit blackout, explained: Why thousands of subreddits are protesting third-party app charges gets rating: 2.0\n",
      "INFO:ranking:Finished ranking the articles!\n",
      "INFO:ranking:Summarizing the top 20 articles.\n",
      "INFO:summarize:Async summarizing 10 short articles\n",
      "INFO:httpx:HTTP Request: POST https://api.openai.com/v1/chat/completions \"HTTP/1.1 200 OK\"\n",
      "INFO:httpx:HTTP Request: POST https://api.openai.com/v1/chat/completions \"HTTP/1.1 200 OK\"\n",
      "INFO:httpx:HTTP Request: POST https://api.openai.com/v1/chat/completions \"HTTP/1.1 200 OK\"\n",
      "INFO:httpx:HTTP Request: POST https://api.openai.com/v1/chat/completions \"HTTP/1.1 200 OK\"\n",
      "INFO:httpx:HTTP Request: POST https://api.openai.com/v1/chat/completions \"HTTP/1.1 200 OK\"\n",
      "INFO:httpx:HTTP Request: POST https://api.openai.com/v1/chat/completions \"HTTP/1.1 200 OK\"\n",
      "INFO:httpx:HTTP Request: POST https://api.openai.com/v1/chat/completions \"HTTP/1.1 200 OK\"\n",
      "INFO:httpx:HTTP Request: POST https://api.openai.com/v1/chat/completions \"HTTP/1.1 200 OK\"\n",
      "INFO:httpx:HTTP Request: POST https://api.openai.com/v1/chat/completions \"HTTP/1.1 200 OK\"\n",
      "INFO:httpx:HTTP Request: POST https://api.openai.com/v1/chat/completions \"HTTP/1.1 200 OK\"\n",
      "INFO:ranking:Finished summarizing the 10 articles!\n"
     ]
    }
   ],
   "source": [
    "(\n",
    "    ranked_articles,\n",
    "    all_articles,\n",
    "    search_queries_list_gnews,\n",
    "    search_queries_list_nc,\n",
    ") = await ranking.retrieve_summarize_and_rank_articles(\n",
    "    question,\n",
    "    background_info,\n",
    "    resolution_criteria,\n",
    "    retrieval_dates,\n",
    "    urls=urls_in_background,\n",
    "    config=RETRIEVAL_CONFIG,\n",
    "    return_intermediates=True,\n",
    ")"
   ]
  },
  {
   "cell_type": "code",
   "execution_count": 10,
   "id": "3115e371",
   "metadata": {},
   "outputs": [],
   "source": [
    "all_summaries = summarize.concat_summaries(\n",
    "    ranked_articles[: RETRIEVAL_CONFIG[\"NUM_SUMMARIES_THRESHOLD\"]]\n",
    ")"
   ]
  },
  {
   "cell_type": "code",
   "execution_count": 11,
   "id": "4cae591a",
   "metadata": {},
   "outputs": [
    {
     "name": "stdout",
     "output_type": "stream",
     "text": [
      "---\n",
      "ARTICLES\n",
      "[1] Reddit CEO lashes out on protests, moderators and third-party apps (published on 2023-06-16)\n",
      "Summary: Reddit CEO Steve Huffman is standing firm on API changes despite protests. The platform announced plans to charge for API access, sparking backlash from third-party app developers. The developer of Apollo for Reddit, Christian Selig, revealed that the new pricing could cost him $20 million annually, leading to widespread discontent. Huffman has defended the changes, emphasizing the need for profitability. Thousands of subreddits have gone dark in protest, but Huffman has shown no signs of backing down. The company has made exceptions for non-commercial apps, but the majority of third-party developers are facing potential shutdown. Despite the uproar, Huffman has indicated that Reddit is unlikely to make changes to the pricing structure.\n",
      "\n",
      "[2] Reddit CEO compares moderators to aristocracy as blackout stretches on (published on 2023-06-16)\n",
      "Summary: Reddit CEO Steve Huffman is facing backlash over the company's plans to charge for third-party app access to its data. The move has prompted a mass protest, with more than 8,000 Reddit communities going dark. Huffman has compared the unpaid volunteer moderators leading the blackout to wealthy land barons and downplayed concerns about the protest. However, the protest has caused Reddit to crash temporarily, and some moderators have indicated their subreddits will remain blacked out indefinitely. The blackout is occurring at a crucial time for the social media giant, which was valued at $10 billion when it landed $1 billion in fundraising in August 2021. Huffman has faced blowback for how the company has handled the decision to charge for data, and the blackout has caused significant trouble for the company. Some moderators have said they are prepared to remain private or otherwise inaccessible indefinitely until Reddit provides an adequate solution. As the July 1 change approaches, how long the blackout will last is unclear. The protest is not currently likely to end very soon.\n",
      "\n",
      "[3] Despite widespread protest, Reddit CEO says company is ‘not negotiating’ on 3rd-party app charges (published on 2023-06-16)\n",
      "Summary: Reddit announced new API pricing in April 2023, sparking backlash from developers and users of third-party apps. The changes could result in substantial costs and potential shutdowns of popular apps. CEO Steve Huffman has remained firm on the changes, emphasizing the need for profitability. This led to widespread discontent and a protest involving over 8,000 Reddit communities going dark. Some communities plan to stay private until Reddit makes changes. The company's stance has escalated user dissatisfaction, with speculation that the changes aim to limit third-party app viability. Given the backlash, it's uncertain whether Reddit will announce changes or a delay to the proposed API fee pricing before July 1, 2023.\n",
      "\n",
      "[4] Despite widespread user protest, Reddit CEO says company is ‘ ...\n"
     ]
    }
   ],
   "source": [
    "print(all_summaries[:3000], \"...\")"
   ]
  },
  {
   "cell_type": "markdown",
   "id": "e36bac7a",
   "metadata": {},
   "source": [
    "## Reasoning"
   ]
  },
  {
   "cell_type": "code",
   "execution_count": 12,
   "id": "bbc3b54c",
   "metadata": {},
   "outputs": [],
   "source": [
    "REASONING_CONFIG = {\n",
    "    \"BASE_REASONING_MODEL_NAMES\": [\"gpt-4-1106-preview\", \"gpt-4-1106-preview\"],\n",
    "    \"BASE_REASONING_TEMPERATURE\": 1.0,\n",
    "    \"BASE_REASONING_PROMPT_TEMPLATES\": [\n",
    "        [\n",
    "            PROMPT_DICT[\"binary\"][\"scratch_pad\"][\"1\"],\n",
    "            PROMPT_DICT[\"binary\"][\"scratch_pad\"][\"2\"],\n",
    "        ],\n",
    "        [\n",
    "            PROMPT_DICT[\"binary\"][\"scratch_pad\"][\"new_3\"],\n",
    "            PROMPT_DICT[\"binary\"][\"scratch_pad\"][\"new_6\"],\n",
    "        ],\n",
    "    ],\n",
    "    \"ALIGNMENT_MODEL_NAME\": \"gpt-3.5-turbo-1106\",\n",
    "    \"ALIGNMENT_TEMPERATURE\": 0,\n",
    "    \"ALIGNMENT_PROMPT\": PROMPT_DICT[\"alignment\"][\"0\"],\n",
    "    \"AGGREGATION_METHOD\": \"meta\",\n",
    "    \"AGGREGATION_PROMPT_TEMPLATE\": PROMPT_DICT[\"meta_reasoning\"][\"0\"],\n",
    "    \"AGGREGATION_TEMPERATURE\": 0.2,\n",
    "    \"AGGREGATION_MODEL_NAME\": \"gpt-4\",\n",
    "    \"AGGREGATION_WEIGTHTS\": None,\n",
    "}"
   ]
  },
  {
   "cell_type": "code",
   "execution_count": 13,
   "id": "824a96f5",
   "metadata": {},
   "outputs": [
    {
     "name": "stderr",
     "output_type": "stream",
     "text": [
      "INFO:httpx:HTTP Request: POST https://api.openai.com/v1/chat/completions \"HTTP/1.1 200 OK\"\n",
      "INFO:httpx:HTTP Request: POST https://api.openai.com/v1/chat/completions \"HTTP/1.1 200 OK\"\n",
      "INFO:model_eval:Finished 2 base reasonings generated by gpt-4-1106-preview\n",
      "INFO:httpx:HTTP Request: POST https://api.openai.com/v1/chat/completions \"HTTP/1.1 200 OK\"\n",
      "INFO:httpx:HTTP Request: POST https://api.openai.com/v1/chat/completions \"HTTP/1.1 200 OK\"\n",
      "INFO:model_eval:Finished 2 base reasonings generated by gpt-4-1106-preview\n",
      "INFO:httpx:HTTP Request: POST https://api.openai.com/v1/chat/completions \"HTTP/1.1 200 OK\"\n"
     ]
    }
   ],
   "source": [
    "today_to_close_date = [retrieval_dates[1], question_dates[1]]\n",
    "ensemble_dict = await ensemble.meta_reason(\n",
    "    question=question,\n",
    "    background_info=background_info,\n",
    "    resolution_criteria=resolution_criteria,\n",
    "    today_to_close_date_range=today_to_close_date,\n",
    "    retrieved_info=all_summaries,\n",
    "    reasoning_prompt_templates=REASONING_CONFIG[\"BASE_REASONING_PROMPT_TEMPLATES\"],\n",
    "    base_model_names=REASONING_CONFIG[\"BASE_REASONING_MODEL_NAMES\"],\n",
    "    base_temperature=REASONING_CONFIG[\"BASE_REASONING_TEMPERATURE\"],\n",
    "    aggregation_method=REASONING_CONFIG[\"AGGREGATION_METHOD\"],\n",
    "    answer_type=\"probability\",\n",
    "    weights=REASONING_CONFIG[\"AGGREGATION_WEIGTHTS\"],\n",
    "    meta_model_name=REASONING_CONFIG[\"AGGREGATION_MODEL_NAME\"],\n",
    "    meta_prompt_template=REASONING_CONFIG[\"AGGREGATION_PROMPT_TEMPLATE\"],\n",
    "    meta_temperature=REASONING_CONFIG[\"AGGREGATION_TEMPERATURE\"],\n",
    ")"
   ]
  },
  {
   "cell_type": "markdown",
   "id": "845eecfe",
   "metadata": {},
   "source": [
    "## Analysis"
   ]
  },
  {
   "cell_type": "code",
   "execution_count": 14,
   "id": "777862bf",
   "metadata": {},
   "outputs": [
    {
     "name": "stdout",
     "output_type": "stream",
     "text": [
      "[[0.48999999999999994, 0.010000000000000002], [0.36, 0.0225]]\n"
     ]
    }
   ],
   "source": [
    "# Compute brier score (base_predictions is a list of lists of\n",
    "# probabilities)\n",
    "base_brier_scores = []\n",
    "# For each sublist (corresponding to a base model name)\n",
    "for base_predictions in ensemble_dict[\"base_predictions\"]:\n",
    "    base_brier_scores.append(\n",
    "        [(base_prediction - answer) ** 2 for base_prediction in base_predictions]\n",
    "    )\n",
    "    \n",
    "print(base_brier_scores)"
   ]
  },
  {
   "cell_type": "code",
   "execution_count": 15,
   "id": "838a3598",
   "metadata": {},
   "outputs": [
    {
     "name": "stdout",
     "output_type": "stream",
     "text": [
      "0.25\n"
     ]
    }
   ],
   "source": [
    "# Compute brier score of ensembled prediction\n",
    "\n",
    "print(ensemble_dict[\"meta_prediction\"])"
   ]
  },
  {
   "cell_type": "code",
   "execution_count": 16,
   "id": "c5b72484",
   "metadata": {},
   "outputs": [],
   "source": [
    "# Visualization (draw the HTML)\n",
    "base_html = visualize_all(\n",
    "    question_data=raw_data[0],\n",
    "    retrieval_dates=retrieval_dates,\n",
    "    search_queries_gnews=search_queries_list_gnews,\n",
    "    search_queries_nc=search_queries_list_nc,\n",
    "    all_articles=all_articles,\n",
    "    ranked_articles=ranked_articles,\n",
    "    all_summaries=all_summaries,\n",
    "    model_names=REASONING_CONFIG[\"BASE_REASONING_MODEL_NAMES\"],\n",
    "    base_reasoning_prompt_templates=REASONING_CONFIG[\n",
    "        \"BASE_REASONING_PROMPT_TEMPLATES\"\n",
    "    ],\n",
    "    base_reasoning_full_prompts=ensemble_dict[\"base_reasoning_full_prompts\"],\n",
    "    base_reasonings=ensemble_dict[\"base_reasonings\"],\n",
    "    base_predictions=ensemble_dict[\"base_predictions\"],\n",
    "    base_brier_scores=base_brier_scores,\n",
    ")\n",
    "meta_html = visualize_all_ensemble(\n",
    "    question_data=raw_data[0],\n",
    "    ranked_articles=ranked_articles,\n",
    "    all_articles=all_articles,\n",
    "    search_queries_gnews=search_queries_list_gnews,\n",
    "    search_queries_nc=search_queries_list_nc,\n",
    "    retrieval_dates=retrieval_dates,\n",
    "    meta_reasoning=ensemble_dict[\"meta_reasoning\"],\n",
    "    meta_full_prompt=ensemble_dict[\"meta_prompt\"],\n",
    "    meta_prediction=ensemble_dict[\"meta_prediction\"],\n",
    ")"
   ]
  },
  {
   "cell_type": "code",
   "execution_count": 17,
   "id": "bf7ac4de",
   "metadata": {},
   "outputs": [],
   "source": [
    "base_file_path = \"sample_q_base_output.html\"\n",
    "meta_file_path = \"sample_q_meta_output.html\"\n",
    "\n",
    "with open(base_file_path, \"w\") as base_file, open(meta_file_path, \"w\") as meta_file:\n",
    "    base_file.write(base_html)\n",
    "    meta_file.write(meta_html)"
   ]
  }
 ],
 "metadata": {
  "kernelspec": {
   "display_name": "Python 3 (ipykernel)",
   "language": "python",
   "name": "python3"
  },
  "language_info": {
   "codemirror_mode": {
    "name": "ipython",
    "version": 3
   },
   "file_extension": ".py",
   "mimetype": "text/x-python",
   "name": "python",
   "nbconvert_exporter": "python",
   "pygments_lexer": "ipython3",
   "version": "3.11.0"
  }
 },
 "nbformat": 4,
 "nbformat_minor": 5
}
